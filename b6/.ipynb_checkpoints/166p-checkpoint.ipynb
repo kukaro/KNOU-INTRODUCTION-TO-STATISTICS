{
 "cells": [
  {
   "cell_type": "code",
   "execution_count": 1,
   "id": "b37cf914",
   "metadata": {},
   "outputs": [
    {
     "data": {
      "text/html": [
       "'어떤 도시 아파트 한 동에서 10명을 조사하여 한 달 동안 인터넷 쇼핑몰 주문횟수가 전체 인구의 평균 주문횟수인 12회보다 큰지를 검정해보고자 한다.\\n표본평균은 12.2 표준편차는 0.2로 추정되었고 모집단은 정규분포를 따른다.'"
      ],
      "text/latex": [
       "'어떤 도시 아파트 한 동에서 10명을 조사하여 한 달 동안 인터넷 쇼핑몰 주문횟수가 전체 인구의 평균 주문횟수인 12회보다 큰지를 검정해보고자 한다.\\textbackslash{}n표본평균은 12.2 표준편차는 0.2로 추정되었고 모집단은 정규분포를 따른다.'"
      ],
      "text/markdown": [
       "'어떤 도시 아파트 한 동에서 10명을 조사하여 한 달 동안 인터넷 쇼핑몰 주문횟수가 전체 인구의 평균 주문횟수인 12회보다 큰지를 검정해보고자 한다.\\n표본평균은 12.2 표준편차는 0.2로 추정되었고 모집단은 정규분포를 따른다.'"
      ],
      "text/plain": [
       "[1] \"어떤 도시 아파트 한 동에서 10명을 조사하여 한 달 동안 인터넷 쇼핑몰 주문횟수가 전체 인구의 평균 주문횟수인 12회보다 큰지를 검정해보고자 한다.\\n표본평균은 12.2 표준편차는 0.2로 추정되었고 모집단은 정규분포를 따른다.\""
      ]
     },
     "metadata": {},
     "output_type": "display_data"
    }
   ],
   "source": [
    "# 6.6\n",
    "'어떤 도시 아파트 한 동에서 10명을 조사하여 한 달 동안 인터넷 쇼핑몰 주문횟수가 전체 인구의 평균 주문횟수인 12회보다 큰지를 검정해보고자 한다.\n",
    "표본평균은 12.2 표준편차는 0.2로 추정되었고 모집단은 정규분포를 따른다.'"
   ]
  },
  {
   "cell_type": "code",
   "execution_count": 2,
   "id": "447da386",
   "metadata": {},
   "outputs": [],
   "source": [
    "n <- 10\n",
    "s <- 0.2\n",
    "x.bar <- 12.2\n",
    "ɑ <- 0.05"
   ]
  },
  {
   "cell_type": "code",
   "execution_count": 3,
   "id": "ae58808c",
   "metadata": {},
   "outputs": [
    {
     "data": {
      "text/html": [
       "'df : 9'"
      ],
      "text/latex": [
       "'df : 9'"
      ],
      "text/markdown": [
       "'df : 9'"
      ],
      "text/plain": [
       "[1] \"df : 9\""
      ]
     },
     "metadata": {},
     "output_type": "display_data"
    },
    {
     "data": {
      "text/html": [
       "'t.value : 3.16227766016837'"
      ],
      "text/latex": [
       "'t.value : 3.16227766016837'"
      ],
      "text/markdown": [
       "'t.value : 3.16227766016837'"
      ],
      "text/plain": [
       "[1] \"t.value : 3.16227766016837\""
      ]
     },
     "metadata": {},
     "output_type": "display_data"
    },
    {
     "data": {
      "text/html": [
       "'critical.region : 2.2621571627982'"
      ],
      "text/latex": [
       "'critical.region : 2.2621571627982'"
      ],
      "text/markdown": [
       "'critical.region : 2.2621571627982'"
      ],
      "text/plain": [
       "[1] \"critical.region : 2.2621571627982\""
      ]
     },
     "metadata": {},
     "output_type": "display_data"
    },
    {
     "data": {
      "text/html": [
       "'p.value : 0.0115079851659439'"
      ],
      "text/latex": [
       "'p.value : 0.0115079851659439'"
      ],
      "text/markdown": [
       "'p.value : 0.0115079851659439'"
      ],
      "text/plain": [
       "[1] \"p.value : 0.0115079851659439\""
      ]
     },
     "metadata": {},
     "output_type": "display_data"
    }
   ],
   "source": [
    "df <- n - 1\n",
    "t.value <- (x.bar - 12)/(s/sqrt(n))\n",
    "critical.region <- qt(1 - ɑ/2, df)\n",
    "p.value <- (1 - pt(t.value, df))*2\n",
    "\n",
    "paste0('df : ', df)\n",
    "paste0('t.value : ', t.value)\n",
    "paste0('critical.region : ', critical.region)\n",
    "paste0('p.value : ', p.value)"
   ]
  },
  {
   "cell_type": "code",
   "execution_count": 106,
   "id": "9559a462",
   "metadata": {},
   "outputs": [
    {
     "data": {
      "text/html": [
       "<style>\n",
       ".list-inline {list-style: none; margin:0; padding: 0}\n",
       ".list-inline>li {display: inline-block}\n",
       ".list-inline>li:not(:last-child)::after {content: \"\\00b7\"; padding: 0 .5ex}\n",
       "</style>\n",
       "<ol class=list-inline><li>11.8965322668007</li><li>12.2184795699969</li><li>12.1004460306929</li><li>12.2929282358239</li><li>12.2740341657921</li><li>12.1030785524397</li><li>12.1288214855372</li><li>12.3153813189536</li><li>12.343289963906</li><li>12.1095632869686</li></ol>\n"
      ],
      "text/latex": [
       "\\begin{enumerate*}\n",
       "\\item 11.8965322668007\n",
       "\\item 12.2184795699969\n",
       "\\item 12.1004460306929\n",
       "\\item 12.2929282358239\n",
       "\\item 12.2740341657921\n",
       "\\item 12.1030785524397\n",
       "\\item 12.1288214855372\n",
       "\\item 12.3153813189536\n",
       "\\item 12.343289963906\n",
       "\\item 12.1095632869686\n",
       "\\end{enumerate*}\n"
      ],
      "text/markdown": [
       "1. 11.8965322668007\n",
       "2. 12.2184795699969\n",
       "3. 12.1004460306929\n",
       "4. 12.2929282358239\n",
       "5. 12.2740341657921\n",
       "6. 12.1030785524397\n",
       "7. 12.1288214855372\n",
       "8. 12.3153813189536\n",
       "9. 12.343289963906\n",
       "10. 12.1095632869686\n",
       "\n",
       "\n"
      ],
      "text/plain": [
       " [1] 11.89653 12.21848 12.10045 12.29293 12.27403 12.10308 12.12882 12.31538\n",
       " [9] 12.34329 12.10956"
      ]
     },
     "metadata": {},
     "output_type": "display_data"
    }
   ],
   "source": [
    "test.value <- rnorm(n, x.bar, s)\n",
    "test.value"
   ]
  },
  {
   "cell_type": "code",
   "execution_count": 107,
   "id": "08bea002",
   "metadata": {},
   "outputs": [
    {
     "data": {
      "text/plain": [
       "\n",
       "\tOne Sample t-test\n",
       "\n",
       "data:  test.value\n",
       "t = 4.1231, df = 9, p-value = 0.002586\n",
       "alternative hypothesis: true mean is not equal to 12\n",
       "95 percent confidence interval:\n",
       " 12.08046 12.27606\n",
       "sample estimates:\n",
       "mean of x \n",
       " 12.17826 \n"
      ]
     },
     "metadata": {},
     "output_type": "display_data"
    }
   ],
   "source": [
    "t.test(test.value, mu=12)"
   ]
  },
  {
   "cell_type": "code",
   "execution_count": 121,
   "id": "2bab3448",
   "metadata": {},
   "outputs": [
    {
     "data": {
      "text/html": [
       "'어늘 마을에서 초등학생 16명에 대해서 1년 동안 읽은 책 수를 조사했더니 다음과 같았다. \\n이 결과가 그 마을 전년 평균 읽은 책 수인 11권보다 큰지를 검정해보고자 한다.\\n모집단은 정규분포를 따른다고 가정한다.'"
      ],
      "text/latex": [
       "'어늘 마을에서 초등학생 16명에 대해서 1년 동안 읽은 책 수를 조사했더니 다음과 같았다. \\textbackslash{}n이 결과가 그 마을 전년 평균 읽은 책 수인 11권보다 큰지를 검정해보고자 한다.\\textbackslash{}n모집단은 정규분포를 따른다고 가정한다.'"
      ],
      "text/markdown": [
       "'어늘 마을에서 초등학생 16명에 대해서 1년 동안 읽은 책 수를 조사했더니 다음과 같았다. \\n이 결과가 그 마을 전년 평균 읽은 책 수인 11권보다 큰지를 검정해보고자 한다.\\n모집단은 정규분포를 따른다고 가정한다.'"
      ],
      "text/plain": [
       "[1] \"어늘 마을에서 초등학생 16명에 대해서 1년 동안 읽은 책 수를 조사했더니 다음과 같았다. \\n이 결과가 그 마을 전년 평균 읽은 책 수인 11권보다 큰지를 검정해보고자 한다.\\n모집단은 정규분포를 따른다고 가정한다.\""
      ]
     },
     "metadata": {},
     "output_type": "display_data"
    },
    {
     "data": {
      "text/html": [
       "<style>\n",
       ".list-inline {list-style: none; margin:0; padding: 0}\n",
       ".list-inline>li {display: inline-block}\n",
       ".list-inline>li:not(:last-child)::after {content: \"\\00b7\"; padding: 0 .5ex}\n",
       "</style>\n",
       "<ol class=list-inline><li>5</li><li>23</li><li>20</li><li>1</li><li>10</li><li>15</li><li>15</li><li>10</li><li>9</li><li>13</li><li>18</li><li>11</li><li>18</li><li>20</li><li>19</li><li>19</li></ol>\n"
      ],
      "text/latex": [
       "\\begin{enumerate*}\n",
       "\\item 5\n",
       "\\item 23\n",
       "\\item 20\n",
       "\\item 1\n",
       "\\item 10\n",
       "\\item 15\n",
       "\\item 15\n",
       "\\item 10\n",
       "\\item 9\n",
       "\\item 13\n",
       "\\item 18\n",
       "\\item 11\n",
       "\\item 18\n",
       "\\item 20\n",
       "\\item 19\n",
       "\\item 19\n",
       "\\end{enumerate*}\n"
      ],
      "text/markdown": [
       "1. 5\n",
       "2. 23\n",
       "3. 20\n",
       "4. 1\n",
       "5. 10\n",
       "6. 15\n",
       "7. 15\n",
       "8. 10\n",
       "9. 9\n",
       "10. 13\n",
       "11. 18\n",
       "12. 11\n",
       "13. 18\n",
       "14. 20\n",
       "15. 19\n",
       "16. 19\n",
       "\n",
       "\n"
      ],
      "text/plain": [
       " [1]  5 23 20  1 10 15 15 10  9 13 18 11 18 20 19 19"
      ]
     },
     "metadata": {},
     "output_type": "display_data"
    }
   ],
   "source": [
    "# 6.7\n",
    "'어늘 마을에서 초등학생 16명에 대해서 1년 동안 읽은 책 수를 조사했더니 다음과 같았다. \n",
    "이 결과가 그 마을 전년 평균 읽은 책 수인 11권보다 큰지를 검정해보고자 한다.\n",
    "모집단은 정규분포를 따른다고 가정한다.'\n",
    "x <- c(5, 23, 20, 1, 10, 15, 15, 10, 9, 13, 18, 11, 18, 20, 19, 19)\n",
    "x\n",
    "avg <- 11"
   ]
  },
  {
   "cell_type": "code",
   "execution_count": 122,
   "id": "1aecf464",
   "metadata": {},
   "outputs": [
    {
     "data": {
      "text/html": [
       "'n : 16'"
      ],
      "text/latex": [
       "'n : 16'"
      ],
      "text/markdown": [
       "'n : 16'"
      ],
      "text/plain": [
       "[1] \"n : 16\""
      ]
     },
     "metadata": {},
     "output_type": "display_data"
    },
    {
     "data": {
      "text/html": [
       "'df : 15'"
      ],
      "text/latex": [
       "'df : 15'"
      ],
      "text/markdown": [
       "'df : 15'"
      ],
      "text/plain": [
       "[1] \"df : 15\""
      ]
     },
     "metadata": {},
     "output_type": "display_data"
    },
    {
     "data": {
      "text/html": [
       "'x.bar : 14.125'"
      ],
      "text/latex": [
       "'x.bar : 14.125'"
      ],
      "text/markdown": [
       "'x.bar : 14.125'"
      ],
      "text/plain": [
       "[1] \"x.bar : 14.125\""
      ]
     },
     "metadata": {},
     "output_type": "display_data"
    },
    {
     "data": {
      "text/html": [
       "'s.square : 36.9166666666667'"
      ],
      "text/latex": [
       "'s.square : 36.9166666666667'"
      ],
      "text/markdown": [
       "'s.square : 36.9166666666667'"
      ],
      "text/plain": [
       "[1] \"s.square : 36.9166666666667\""
      ]
     },
     "metadata": {},
     "output_type": "display_data"
    },
    {
     "data": {
      "text/html": [
       "'s : 6.07590871118606'"
      ],
      "text/latex": [
       "'s : 6.07590871118606'"
      ],
      "text/markdown": [
       "'s : 6.07590871118606'"
      ],
      "text/plain": [
       "[1] \"s : 6.07590871118606\""
      ]
     },
     "metadata": {},
     "output_type": "display_data"
    },
    {
     "data": {
      "text/html": [
       "'ɑ : 0.05'"
      ],
      "text/latex": [
       "'ɑ : 0.05'"
      ],
      "text/markdown": [
       "'ɑ : 0.05'"
      ],
      "text/plain": [
       "[1] \"ɑ : 0.05\""
      ]
     },
     "metadata": {},
     "output_type": "display_data"
    }
   ],
   "source": [
    "n <- length(x)\n",
    "df <- n - 1\n",
    "x.bar <- mean(x)\n",
    "s.square <- sum((x - x.bar)**2)/df\n",
    "s <- sqrt(s.square)\n",
    "ɑ <- 0.05\n",
    "\n",
    "paste0('n : ', n)\n",
    "paste0('df : ', df)\n",
    "paste0('x.bar : ', x.bar)\n",
    "paste0('s.square : ', s.square)\n",
    "paste0('s : ', s)\n",
    "paste0('ɑ : ', ɑ)"
   ]
  },
  {
   "cell_type": "code",
   "execution_count": 126,
   "id": "0b4463ae",
   "metadata": {},
   "outputs": [
    {
     "data": {
      "text/html": [
       "'t.score : 2.05730543268151'"
      ],
      "text/latex": [
       "'t.score : 2.05730543268151'"
      ],
      "text/markdown": [
       "'t.score : 2.05730543268151'"
      ],
      "text/plain": [
       "[1] \"t.score : 2.05730543268151\""
      ]
     },
     "metadata": {},
     "output_type": "display_data"
    },
    {
     "data": {
      "text/html": [
       "'critical.region : 1.75305035569257'"
      ],
      "text/latex": [
       "'critical.region : 1.75305035569257'"
      ],
      "text/markdown": [
       "'critical.region : 1.75305035569257'"
      ],
      "text/plain": [
       "[1] \"critical.region : 1.75305035569257\""
      ]
     },
     "metadata": {},
     "output_type": "display_data"
    },
    {
     "data": {
      "text/html": [
       "'p.value : 0.0287390018725791'"
      ],
      "text/latex": [
       "'p.value : 0.0287390018725791'"
      ],
      "text/markdown": [
       "'p.value : 0.0287390018725791'"
      ],
      "text/plain": [
       "[1] \"p.value : 0.0287390018725791\""
      ]
     },
     "metadata": {},
     "output_type": "display_data"
    }
   ],
   "source": [
    "t.score <- (x.bar - avg)/(s/sqrt(n))\n",
    "critical.region <- qt(1 - ɑ, df)\n",
    "p.value <- (1 - pt(t.score, df))\n",
    "\n",
    "paste0('t.score : ', t.score)\n",
    "paste0('critical.region : ', critical.region)\n",
    "paste0('p.value : ', p.value)"
   ]
  },
  {
   "cell_type": "code",
   "execution_count": 127,
   "id": "0118bf40",
   "metadata": {},
   "outputs": [
    {
     "data": {
      "text/plain": [
       "\n",
       "\tOne Sample t-test\n",
       "\n",
       "data:  x\n",
       "t = 2.0573, df = 15, p-value = 0.02874\n",
       "alternative hypothesis: true mean is greater than 11\n",
       "95 percent confidence interval:\n",
       " 11.46216      Inf\n",
       "sample estimates:\n",
       "mean of x \n",
       "   14.125 \n"
      ]
     },
     "metadata": {},
     "output_type": "display_data"
    }
   ],
   "source": [
    "t.test(x, mu=avg, alternative='greater')"
   ]
  },
  {
   "cell_type": "code",
   "execution_count": 128,
   "id": "5644340d",
   "metadata": {},
   "outputs": [
    {
     "data": {
      "text/html": [
       "'한 제약회사에서 질병 A에 대한 새로운 치료제를 개발했다.\\n질병 A의 기존 치료제 치료율이 60%이다.\\n50명의 표본에 대해 새로운 치료제를 복용한 실험을 실시한 결과 35명이 치료된 것으로 나타났다.\\n실험결과로부터 새로운 약에 의해 치료율이 향상되었는가를 유의수준 5%에서 검정하라'"
      ],
      "text/latex": [
       "'한 제약회사에서 질병 A에 대한 새로운 치료제를 개발했다.\\textbackslash{}n질병 A의 기존 치료제 치료율이 60\\%이다.\\textbackslash{}n50명의 표본에 대해 새로운 치료제를 복용한 실험을 실시한 결과 35명이 치료된 것으로 나타났다.\\textbackslash{}n실험결과로부터 새로운 약에 의해 치료율이 향상되었는가를 유의수준 5\\%에서 검정하라'"
      ],
      "text/markdown": [
       "'한 제약회사에서 질병 A에 대한 새로운 치료제를 개발했다.\\n질병 A의 기존 치료제 치료율이 60%이다.\\n50명의 표본에 대해 새로운 치료제를 복용한 실험을 실시한 결과 35명이 치료된 것으로 나타났다.\\n실험결과로부터 새로운 약에 의해 치료율이 향상되었는가를 유의수준 5%에서 검정하라'"
      ],
      "text/plain": [
       "[1] \"한 제약회사에서 질병 A에 대한 새로운 치료제를 개발했다.\\n질병 A의 기존 치료제 치료율이 60%이다.\\n50명의 표본에 대해 새로운 치료제를 복용한 실험을 실시한 결과 35명이 치료된 것으로 나타났다.\\n실험결과로부터 새로운 약에 의해 치료율이 향상되었는가를 유의수준 5%에서 검정하라\""
      ]
     },
     "metadata": {},
     "output_type": "display_data"
    }
   ],
   "source": [
    "# 6.8\n",
    "'한 제약회사에서 질병 A에 대한 새로운 치료제를 개발했다.\n",
    "질병 A의 기존 치료제 치료율이 60%이다.\n",
    "50명의 표본에 대해 새로운 치료제를 복용한 실험을 실시한 결과 35명이 치료된 것으로 나타났다.\n",
    "실험결과로부터 새로운 약에 의해 치료율이 향상되었는가를 유의수준 5%에서 검정하라'"
   ]
  },
  {
   "cell_type": "code",
   "execution_count": 131,
   "id": "1a9ff988",
   "metadata": {},
   "outputs": [
    {
     "data": {
      "text/html": [
       "'n : 50'"
      ],
      "text/latex": [
       "'n : 50'"
      ],
      "text/markdown": [
       "'n : 50'"
      ],
      "text/plain": [
       "[1] \"n : 50\""
      ]
     },
     "metadata": {},
     "output_type": "display_data"
    },
    {
     "data": {
      "text/html": [
       "'p : 0.6'"
      ],
      "text/latex": [
       "'p : 0.6'"
      ],
      "text/markdown": [
       "'p : 0.6'"
      ],
      "text/plain": [
       "[1] \"p : 0.6\""
      ]
     },
     "metadata": {},
     "output_type": "display_data"
    },
    {
     "data": {
      "text/html": [
       "'p.hat : 0.7'"
      ],
      "text/latex": [
       "'p.hat : 0.7'"
      ],
      "text/markdown": [
       "'p.hat : 0.7'"
      ],
      "text/plain": [
       "[1] \"p.hat : 0.7\""
      ]
     },
     "metadata": {},
     "output_type": "display_data"
    },
    {
     "data": {
      "text/html": [
       "'ɑ : 0.05'"
      ],
      "text/latex": [
       "'ɑ : 0.05'"
      ],
      "text/markdown": [
       "'ɑ : 0.05'"
      ],
      "text/plain": [
       "[1] \"ɑ : 0.05\""
      ]
     },
     "metadata": {},
     "output_type": "display_data"
    },
    {
     "data": {
      "text/html": [
       "'s.square : 0.24'"
      ],
      "text/latex": [
       "'s.square : 0.24'"
      ],
      "text/markdown": [
       "'s.square : 0.24'"
      ],
      "text/plain": [
       "[1] \"s.square : 0.24\""
      ]
     },
     "metadata": {},
     "output_type": "display_data"
    },
    {
     "data": {
      "text/html": [
       "'s : 0.489897948556636'"
      ],
      "text/latex": [
       "'s : 0.489897948556636'"
      ],
      "text/markdown": [
       "'s : 0.489897948556636'"
      ],
      "text/plain": [
       "[1] \"s : 0.489897948556636\""
      ]
     },
     "metadata": {},
     "output_type": "display_data"
    }
   ],
   "source": [
    "n <- 50\n",
    "p <- 0.6\n",
    "X <- 35\n",
    "p.hat <- X / n\n",
    "ɑ <- 0.05\n",
    "s.square <- p*(1 - p)\n",
    "s <- sqrt(s.square)\n",
    "\n",
    "paste0('n : ', n)\n",
    "paste0('p : ', p)\n",
    "paste0('p.hat : ', p.hat)\n",
    "paste0('ɑ : ', ɑ)\n",
    "paste0('s.square : ', s.square)\n",
    "paste0('s : ', s)"
   ]
  },
  {
   "cell_type": "code",
   "execution_count": 132,
   "id": "b3b20b47",
   "metadata": {},
   "outputs": [
    {
     "data": {
      "text/html": [
       "'z.score : 1.44337567297406'"
      ],
      "text/latex": [
       "'z.score : 1.44337567297406'"
      ],
      "text/markdown": [
       "'z.score : 1.44337567297406'"
      ],
      "text/plain": [
       "[1] \"z.score : 1.44337567297406\""
      ]
     },
     "metadata": {},
     "output_type": "display_data"
    },
    {
     "data": {
      "text/html": [
       "'critical.region : 1.64485362695147'"
      ],
      "text/latex": [
       "'critical.region : 1.64485362695147'"
      ],
      "text/markdown": [
       "'critical.region : 1.64485362695147'"
      ],
      "text/plain": [
       "[1] \"critical.region : 1.64485362695147\""
      ]
     },
     "metadata": {},
     "output_type": "display_data"
    },
    {
     "data": {
      "text/html": [
       "'p.value : 0.0744573365893829'"
      ],
      "text/latex": [
       "'p.value : 0.0744573365893829'"
      ],
      "text/markdown": [
       "'p.value : 0.0744573365893829'"
      ],
      "text/plain": [
       "[1] \"p.value : 0.0744573365893829\""
      ]
     },
     "metadata": {},
     "output_type": "display_data"
    }
   ],
   "source": [
    "z.score <- (p.hat - p)/(s/sqrt(n))\n",
    "critical.region <- qnorm(1 - ɑ)\n",
    "p.value <- (1 - pnorm(z.score))\n",
    "\n",
    "paste0('z.score : ', z.score)\n",
    "paste0('critical.region : ', critical.region)\n",
    "paste0('p.value : ', p.value)"
   ]
  },
  {
   "cell_type": "code",
   "execution_count": 133,
   "id": "de89023f",
   "metadata": {},
   "outputs": [
    {
     "data": {
      "text/html": [
       "'쌀 20kg 한 포대에 자동으로 쌀을 채우는 기계의 정밀도를 살펴보려고 한다.\\n채워지는 쌀 무게의 표준편차가 10g 이하여야 기계가 안정적이라고 할 수 있다.\\n품질관리 책임자가 생산 완료된 쌀포대 10개를 임의로 추출하여 무게를 측정한 결과 표본표준편차가 5kg이었다.\\n쌀 무게가 정규분포를 따를 때 이 자동기계의 정밀도의 척도로 쌀 무게의 표준편차가 10g 이하인가를 유의수준 5%에서 검정하라.'"
      ],
      "text/latex": [
       "'쌀 20kg 한 포대에 자동으로 쌀을 채우는 기계의 정밀도를 살펴보려고 한다.\\textbackslash{}n채워지는 쌀 무게의 표준편차가 10g 이하여야 기계가 안정적이라고 할 수 있다.\\textbackslash{}n품질관리 책임자가 생산 완료된 쌀포대 10개를 임의로 추출하여 무게를 측정한 결과 표본표준편차가 5kg이었다.\\textbackslash{}n쌀 무게가 정규분포를 따를 때 이 자동기계의 정밀도의 척도로 쌀 무게의 표준편차가 10g 이하인가를 유의수준 5\\%에서 검정하라.'"
      ],
      "text/markdown": [
       "'쌀 20kg 한 포대에 자동으로 쌀을 채우는 기계의 정밀도를 살펴보려고 한다.\\n채워지는 쌀 무게의 표준편차가 10g 이하여야 기계가 안정적이라고 할 수 있다.\\n품질관리 책임자가 생산 완료된 쌀포대 10개를 임의로 추출하여 무게를 측정한 결과 표본표준편차가 5kg이었다.\\n쌀 무게가 정규분포를 따를 때 이 자동기계의 정밀도의 척도로 쌀 무게의 표준편차가 10g 이하인가를 유의수준 5%에서 검정하라.'"
      ],
      "text/plain": [
       "[1] \"쌀 20kg 한 포대에 자동으로 쌀을 채우는 기계의 정밀도를 살펴보려고 한다.\\n채워지는 쌀 무게의 표준편차가 10g 이하여야 기계가 안정적이라고 할 수 있다.\\n품질관리 책임자가 생산 완료된 쌀포대 10개를 임의로 추출하여 무게를 측정한 결과 표본표준편차가 5kg이었다.\\n쌀 무게가 정규분포를 따를 때 이 자동기계의 정밀도의 척도로 쌀 무게의 표준편차가 10g 이하인가를 유의수준 5%에서 검정하라.\""
      ]
     },
     "metadata": {},
     "output_type": "display_data"
    }
   ],
   "source": [
    "# 6.9\n",
    "'쌀 20kg 한 포대에 자동으로 쌀을 채우는 기계의 정밀도를 살펴보려고 한다.\n",
    "채워지는 쌀 무게의 표준편차가 10g 이하여야 기계가 안정적이라고 할 수 있다.\n",
    "품질관리 책임자가 생산 완료된 쌀포대 10개를 임의로 추출하여 무게를 측정한 결과 표본표준편차가 5kg이었다.\n",
    "쌀 무게가 정규분포를 따를 때 이 자동기계의 정밀도의 척도로 쌀 무게의 표준편차가 10g 이하인가를 유의수준 5%에서 검정하라.'"
   ]
  },
  {
   "cell_type": "code",
   "execution_count": 136,
   "id": "7eaf4164",
   "metadata": {},
   "outputs": [],
   "source": [
    "n <- 10\n",
    "s.square <- 25\n",
    "σ.square <- 100\n",
    "s <- sqrt(s.square)\n",
    "σ <- sqrt(σ.square)\n",
    "ɑ <- 0.05"
   ]
  },
  {
   "cell_type": "code",
   "execution_count": 137,
   "id": "0dfcd51e",
   "metadata": {},
   "outputs": [
    {
     "data": {
      "text/html": [
       "'chi.square : 2.25'"
      ],
      "text/latex": [
       "'chi.square : 2.25'"
      ],
      "text/markdown": [
       "'chi.square : 2.25'"
      ],
      "text/plain": [
       "[1] \"chi.square : 2.25\""
      ]
     },
     "metadata": {},
     "output_type": "display_data"
    }
   ],
   "source": [
    "chi.square <- (n - 1) * s.square/σ.square\n",
    "\n",
    "paste0('chi.square : ', chi.square)"
   ]
  },
  {
   "cell_type": "code",
   "execution_count": 141,
   "id": "5d759479",
   "metadata": {},
   "outputs": [
    {
     "data": {
      "text/html": [
       "'critical.region : 3.32511284306681'"
      ],
      "text/latex": [
       "'critical.region : 3.32511284306681'"
      ],
      "text/markdown": [
       "'critical.region : 3.32511284306681'"
      ],
      "text/plain": [
       "[1] \"critical.region : 3.32511284306681\""
      ]
     },
     "metadata": {},
     "output_type": "display_data"
    },
    {
     "data": {
      "text/html": [
       "'p.value : 0.0131306156580141'"
      ],
      "text/latex": [
       "'p.value : 0.0131306156580141'"
      ],
      "text/markdown": [
       "'p.value : 0.0131306156580141'"
      ],
      "text/plain": [
       "[1] \"p.value : 0.0131306156580141\""
      ]
     },
     "metadata": {},
     "output_type": "display_data"
    }
   ],
   "source": [
    "critical.region <- qchisq(ɑ, n - 1)\n",
    "p.value <- pchisq(chi.square, n - 1)\n",
    "\n",
    "paste0('critical.region : ', critical.region)\n",
    "paste0('p.value : ', p.value)"
   ]
  },
  {
   "cell_type": "code",
   "execution_count": 145,
   "id": "a72fc8da",
   "metadata": {},
   "outputs": [
    {
     "data": {
      "text/html": [
       "'다음의 결과는 어떤 학교 학생 12명이 읽은 책 수이다.\\n이들 학생이 읽은 책 수의 표준편차가 전년도에 읽은 책의 표준편차 4권보다 큰지를 검정하라.\\n모집단은 정규분포를 따른다고 가정한다.'"
      ],
      "text/latex": [
       "'다음의 결과는 어떤 학교 학생 12명이 읽은 책 수이다.\\textbackslash{}n이들 학생이 읽은 책 수의 표준편차가 전년도에 읽은 책의 표준편차 4권보다 큰지를 검정하라.\\textbackslash{}n모집단은 정규분포를 따른다고 가정한다.'"
      ],
      "text/markdown": [
       "'다음의 결과는 어떤 학교 학생 12명이 읽은 책 수이다.\\n이들 학생이 읽은 책 수의 표준편차가 전년도에 읽은 책의 표준편차 4권보다 큰지를 검정하라.\\n모집단은 정규분포를 따른다고 가정한다.'"
      ],
      "text/plain": [
       "[1] \"다음의 결과는 어떤 학교 학생 12명이 읽은 책 수이다.\\n이들 학생이 읽은 책 수의 표준편차가 전년도에 읽은 책의 표준편차 4권보다 큰지를 검정하라.\\n모집단은 정규분포를 따른다고 가정한다.\""
      ]
     },
     "metadata": {},
     "output_type": "display_data"
    },
    {
     "data": {
      "text/html": [
       "<table class=\"dataframe\">\n",
       "<caption>A matrix: 1 × 12 of type dbl</caption>\n",
       "<tbody>\n",
       "\t<tr><td>5</td><td>23</td><td>20</td><td>1</td><td>10</td><td>15</td><td>15</td><td>10</td><td>9</td><td>13</td><td>18</td><td>11</td></tr>\n",
       "</tbody>\n",
       "</table>\n"
      ],
      "text/latex": [
       "A matrix: 1 × 12 of type dbl\n",
       "\\begin{tabular}{llllllllllll}\n",
       "\t 5 & 23 & 20 & 1 & 10 & 15 & 15 & 10 & 9 & 13 & 18 & 11\\\\\n",
       "\\end{tabular}\n"
      ],
      "text/markdown": [
       "\n",
       "A matrix: 1 × 12 of type dbl\n",
       "\n",
       "| 5 | 23 | 20 | 1 | 10 | 15 | 15 | 10 | 9 | 13 | 18 | 11 |\n",
       "\n"
      ],
      "text/plain": [
       "     [,1] [,2] [,3] [,4] [,5] [,6] [,7] [,8] [,9] [,10] [,11] [,12]\n",
       "[1,] 5    23   20   1    10   15   15   10   9    13    18    11   "
      ]
     },
     "metadata": {},
     "output_type": "display_data"
    }
   ],
   "source": [
    "# 6.10\n",
    "'다음의 결과는 어떤 학교 학생 12명이 읽은 책 수이다.\n",
    "이들 학생이 읽은 책 수의 표준편차가 전년도에 읽은 책의 표준편차 4권보다 큰지를 검정하라.\n",
    "모집단은 정규분포를 따른다고 가정한다.'\n",
    "X <- c(5, 23, 20, 1, 10, 15, 15, 10, 9, 13, 18, 11)\n",
    "t(X)"
   ]
  },
  {
   "cell_type": "code",
   "execution_count": 149,
   "id": "de7edb22",
   "metadata": {},
   "outputs": [],
   "source": [
    "n <- length(X)\n",
    "s.square <- sd(X)**2\n",
    "σ.square <- 16\n",
    "ɑ <- 0.05"
   ]
  },
  {
   "cell_type": "code",
   "execution_count": 151,
   "id": "55a3f6cb",
   "metadata": {},
   "outputs": [
    {
     "data": {
      "text/html": [
       "'chi.square : 26.5625'"
      ],
      "text/latex": [
       "'chi.square : 26.5625'"
      ],
      "text/markdown": [
       "'chi.square : 26.5625'"
      ],
      "text/plain": [
       "[1] \"chi.square : 26.5625\""
      ]
     },
     "metadata": {},
     "output_type": "display_data"
    },
    {
     "data": {
      "text/html": [
       "'critical.region : 19.6751375726825'"
      ],
      "text/latex": [
       "'critical.region : 19.6751375726825'"
      ],
      "text/markdown": [
       "'critical.region : 19.6751375726825'"
      ],
      "text/plain": [
       "[1] \"critical.region : 19.6751375726825\""
      ]
     },
     "metadata": {},
     "output_type": "display_data"
    },
    {
     "data": {
      "text/html": [
       "'p.value : 0.00534785885520761'"
      ],
      "text/latex": [
       "'p.value : 0.00534785885520761'"
      ],
      "text/markdown": [
       "'p.value : 0.00534785885520761'"
      ],
      "text/plain": [
       "[1] \"p.value : 0.00534785885520761\""
      ]
     },
     "metadata": {},
     "output_type": "display_data"
    }
   ],
   "source": [
    "chi.square <- (n - 1) * s.square/σ.square\n",
    "critical.region <- qchisq(1 - ɑ, n - 1)\n",
    "p.value <- 1 - pchisq(chi.square, n - 1)\n",
    "\n",
    "paste0('chi.square : ', chi.square)\n",
    "paste0('critical.region : ', critical.region)\n",
    "paste0('p.value : ', p.value)"
   ]
  },
  {
   "cell_type": "code",
   "execution_count": null,
   "id": "c02c24aa",
   "metadata": {},
   "outputs": [],
   "source": []
  }
 ],
 "metadata": {
  "kernelspec": {
   "display_name": "R",
   "language": "R",
   "name": "ir"
  },
  "language_info": {
   "codemirror_mode": "r",
   "file_extension": ".r",
   "mimetype": "text/x-r-source",
   "name": "R",
   "pygments_lexer": "r",
   "version": "4.0.3"
  }
 },
 "nbformat": 4,
 "nbformat_minor": 5
}
